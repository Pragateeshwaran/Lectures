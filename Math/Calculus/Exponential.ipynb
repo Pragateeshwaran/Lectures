{
 "cells": [
  {
   "cell_type": "code",
   "execution_count": 1,
   "id": "a90977bf",
   "metadata": {},
   "outputs": [
    {
     "data": {
      "text/plain": [
       "2.7182818284590455"
      ]
     },
     "execution_count": 1,
     "metadata": {},
     "output_type": "execute_result"
    }
   ],
   "source": [
    "def factorial(n):\n",
    "    return 1 if n == 0 else n*factorial(n-1)\n",
    "\n",
    "def exp(x):\n",
    "    return sum([\n",
    "        x**n/factorial(n)\n",
    "        for n in range(150)\n",
    "    ])\n",
    "\n",
    "exp(1)"
   ]
  },
  {
   "cell_type": "code",
   "execution_count": 2,
   "id": "f17a3dbb",
   "metadata": {},
   "outputs": [
    {
     "data": {
      "text/plain": [
       "22026.46579480671"
      ]
     },
     "execution_count": 2,
     "metadata": {},
     "output_type": "execute_result"
    }
   ],
   "source": [
    "def factorial(n):\n",
    "    return 1 if n == 0 else n*factorial(n-1)\n",
    "\n",
    "def exp(x):\n",
    "    return sum([\n",
    "        x**n/factorial(n)\n",
    "        for n in range(150)\n",
    "    ])\n",
    "\n",
    "exp(10)"
   ]
  }
 ],
 "metadata": {
  "kernelspec": {
   "display_name": "Python 3",
   "language": "python",
   "name": "python3"
  },
  "language_info": {
   "codemirror_mode": {
    "name": "ipython",
    "version": 3
   },
   "file_extension": ".py",
   "mimetype": "text/x-python",
   "name": "python",
   "nbconvert_exporter": "python",
   "pygments_lexer": "ipython3",
   "version": "3.9.0"
  }
 },
 "nbformat": 4,
 "nbformat_minor": 5
}

{
 "cells": [
  {
   "cell_type": "markdown",
   "metadata": {},
   "source": [
    "# Def:"
   ]
  },
  {
   "cell_type": "markdown",
   "metadata": {},
   "source": [
    "Embedding is a learned representation for data where similar data points are mapped close together in a Low-dimensional space."
   ]
  },
  {
   "cell_type": "markdown",
   "metadata": {},
   "source": [
    "[Click Here For Embedding Projector](https://projector.tensorflow.org/) See videos if not working"
   ]
  },
  {
   "cell_type": "markdown",
   "metadata": {},
   "source": [
    "# Types of embeddings\n",
    "1. Word Embeddings (e.g., Word2Vec, GloVe, FastText).\n",
    "2. Sentence and document embeddings (e.g., BERT, RoBERTa). \n",
    "3. Image Embedding\n",
    "and so on... "
   ]
  },
  {
   "cell_type": "markdown",
   "metadata": {},
   "source": [
    "## Types of Word Embeddings (Word2Vec)"
   ]
  },
  {
   "cell_type": "markdown",
   "metadata": {},
   "source": [
    "1. Continuous Bag of Words (CBOW) - predicts the word by surrounding words\n",
    "2. Skip-gram - predicts the surrounding words by a word "
   ]
  },
  {
   "cell_type": "markdown",
   "metadata": {},
   "source": [
    "### What is Vectors?"
   ]
  },
  {
   "cell_type": "code",
   "execution_count": 1,
   "metadata": {},
   "outputs": [
    {
     "data": {
      "image/png": "[encoded data removed]",
      "text/plain": [
       "<Figure size 640x480 with 1 Axes>"
      ]
     },
     "metadata": {},
     "output_type": "display_data"
    }
   ],
   "source": [
    "import matplotlib.pyplot as plt\n",
    "vectors = [[1, 9], [3, 6], [6, 7], [4, 9]]\n",
    "for vector in vectors:\n",
    "    plt.arrow(0, 0, vector[0], vector[1], head_width=0.2, head_length=0.3)\n",
    "plt.xlim(0, 10)\n",
    "plt.ylim(0, 10)\n",
    "plt.grid(True)\n",
    "plt.show()\n"
   ]
  },
  {
   "cell_type": "markdown",
   "metadata": {},
   "source": [
    "### Let's Code"
   ]
  },
  {
   "cell_type": "code",
   "execution_count": 2,
   "metadata": {},
   "outputs": [],
   "source": [
    "with open(\"text.txt\", \"r\") as f:\n",
    "    content = f.read()\n"
   ]
  },
  {
   "cell_type": "code",
   "execution_count": 3,
   "metadata": {},
   "outputs": [
    {
     "data": {
      "text/plain": [
       "['Pragateesh Loves deepLearning',\n",
       " 'Pragateesh is good at deepLearning ',\n",
       " 'Manikandan and Pragateesh studied deepLearning',\n",
       " 'Nawfal and Pragateesh studied deepLearning',\n",
       " 'sathiesh and Pragateesh studied deepLearning',\n",
       " 'Pragateesh know about transformers',\n",
       " 'sathiesh know about transformers',\n",
       " 'Manikandan know about transformers',\n",
       " 'Pragateesh friends are Manikandan , sathiesh , Nawfal , Gowsi , prakash , Sam',\n",
       " 'Manikandan friends are Pragateesh , sathiesh , Nawfal , Gowsi , prakash , Sam',\n",
       " 'sathiesh friends are Pragateesh , Manikandan , Nawfal , Gowsi , prakash, Sam',\n",
       " 'Nawfal friends are Pragateesh , sathiesh , Manikandan , Gowsi , prakash , Sam',\n",
       " 'Gowsi friends are Pragateesh , sathiesh , Manikandan , Nawfal , prakash , Sam',\n",
       " 'prakash friends are Pragateesh , sathiesh , Manikandan , Nawfal , Gowsi , Sam',\n",
       " 'sam friends are Pragateesh , sathiesh , Manikandan , Nawfal , prakash , Gowsi',\n",
       " 'Manikandan oftens gets Beat by HOD',\n",
       " 'Pragateesh Loves deepLearning',\n",
       " 'prakash oftens gets scold by HOD',\n",
       " 'Gowsi oftens gets scold by HOD',\n",
       " 'sam oftens gets scold by HOD',\n",
       " 'Nawfal is UI specialist',\n",
       " 'nawfal is good at UI ',\n",
       " 'nawfal Knows very well about UI',\n",
       " 'Nawfal creates many UI',\n",
       " 'prakash is good at cars ',\n",
       " 'prakash is good at Bikes',\n",
       " 'prakash is repairing Bikes',\n",
       " 'prakash is repairing cars',\n",
       " 'prakash is Driving cars',\n",
       " 'prakash is Driving Bikes ',\n",
       " 'Sam is a great mechanic',\n",
       " 'Sam is a love to be a mechanic']"
      ]
     },
     "execution_count": 3,
     "metadata": {},
     "output_type": "execute_result"
    }
   ],
   "source": [
    "content = [sentences for sentences in content.split(\"\\n\")]\n",
    "content"
   ]
  },
  {
   "cell_type": "code",
   "execution_count": 4,
   "metadata": {},
   "outputs": [
    {
     "name": "stdout",
     "output_type": "stream",
     "text": [
      "[['pragateesh', 'loves', 'deeplearning'], ['pragateesh', 'good', 'deeplearning'], ['manikandan', 'pragateesh', 'studied', 'deeplearning'], ['nawfal', 'pragateesh', 'studied', 'deeplearning'], ['sathiesh', 'pragateesh', 'studied', 'deeplearning'], ['pragateesh', 'know', 'about', 'transformers'], ['sathiesh', 'know', 'about', 'transformers'], ['manikandan', 'know', 'about', 'transformers'], ['pragateesh', 'friends', 'manikandan', 'sathiesh', 'nawfal', 'gowsi', 'prakash', 'sam'], ['manikandan', 'friends', 'pragateesh', 'sathiesh', 'nawfal', 'gowsi', 'prakash', 'sam'], ['sathiesh', 'friends', 'pragateesh', 'manikandan', 'nawfal', 'gowsi', 'prakash,', 'sam'], ['nawfal', 'friends', 'pragateesh', 'sathiesh', 'manikandan', 'gowsi', 'prakash', 'sam'], ['gowsi', 'friends', 'pragateesh', 'sathiesh', 'manikandan', 'nawfal', 'prakash', 'sam'], ['prakash', 'friends', 'pragateesh', 'sathiesh', 'manikandan', 'nawfal', 'gowsi', 'sam'], ['sam', 'friends', 'pragateesh', 'sathiesh', 'manikandan', 'nawfal', 'prakash', 'gowsi'], ['manikandan', 'beat', 'hod'], ['pragateesh', 'loves', 'deeplearning'], ['prakash', 'scold', 'hod'], ['gowsi', 'scold', 'hod'], ['sam', 'scold', 'hod'], ['nawfal', 'ui', 'specialist'], ['nawfal', 'good', 'ui'], ['nawfal', 'knows', 'well', 'about', 'ui'], ['nawfal', 'creates', 'many', 'ui'], ['prakash', 'good', 'cars'], ['prakash', 'good', 'bikes'], ['prakash', 'repairing', 'bikes'], ['prakash', 'repairing', 'cars'], ['prakash', 'driving', 'cars'], ['prakash', 'driving', 'bikes'], ['sam', 'great', 'mechanic'], ['sam', 'love', 'be', 'mechanic']]\n"
     ]
    }
   ],
   "source": [
    "# remove stopping words from the content \n",
    "stopping_words = [\"a\", \"an\", \"the\", \"in\", \"on\", \"at\", \"of\", \"by\", \"I\", \"you\", \"we\", \"is\", \"are\", \"am\", \"gets\", \"oftens\", \",\", \".\", \"to\", \"and\", \"for\", \"not\", \"with\", \"it\", \"this\", \"that\", \"from\", \"as\", \"are\", \"was\", \"were\", \"will\", \"would\", \"should\", \"could\", \"can\", \"may\", \"might\", \"shall\", \"do\", \"does\", \"did\", \"has\", \"have\", \"had\", \"been\", \"being\", \"my\", \"your\", \"his\", \"her\", \"our\", \"their\", \"its\", \"me\", \"him\", \"us\", \"them\", \"mine\", \"yours\", \"his\", \"hers\", \"ours\", \"theirs\", \"myself\", \"yourself\", \"himself\", \"herself\", \"itself\", \"ourselves\", \"themselves\", \"what\", \"who\", \"whom\", \"whose\", \"which\", \"where\", \"when\", \"why\", \"how\", \"all\", \"any\", \"both\", \"each\", \"few\", \"more\", \"most\", \"other\", \"some\", \"such\", \"no\", \"nor\", \"not\", \"only\", \"own\", \"same\", \"so\", \"than\", \"too\", \"very\", \"s\", \"t\", \"can\", \"will\", \"just\", \"don\", \"should\", \"now\", \"d\", \"ll\", \"m\", \"o\", \"re\", \"ve\", \"y\", \"ain\", \"aren\", \"couldn\", \"didn\", \"doesn\", \"hadn\", \"hasn\", \"haven\", \"isn\", \"ma\", \"mightn\", \"mustn\", \"needn\", \"shan\", \"shouldn\", \"wasn\", \"weren\", \"won\", \"wouldn\", \"here\", \"there\", \"when\", \"where\", \"why\", \"how\", \"which\", \"what\", \"who\", \"whom\", \"whose\", \"whichever\", \"whoever\", \"whomever\", \"whatever\", \"whenever\", \"wherever\", \"however\", \"whyever\", \"all\", \"another\", \"any\", \"anybody\", \"anyone\", \"anything\", \"both\", \"each\", \"either\", \"everybody\", \"everyone\", \"everything\", \"few\", \"he\", \"her\", \"hers\", \"herself\", \"him\", \"him\"]\n",
    "pure_content = []\n",
    "for sentence in content:\n",
    "    temp = []\n",
    "    for words in sentence.lower().split():  # convert all words to lower case\n",
    "        if words not in stopping_words:\n",
    "            temp.append(words)\n",
    "    pure_content.append(temp)\n",
    "\n",
    "print(pure_content)"
   ]
  },
  {
   "cell_type": "markdown",
   "metadata": {},
   "source": [
    "### Bigrams"
   ]
  },
  {
   "cell_type": "code",
   "execution_count": 5,
   "metadata": {},
   "outputs": [
    {
     "name": "stdout",
     "output_type": "stream",
     "text": [
      "[['pragateesh', 'loves'], ['loves', 'pragateesh'], ['pragateesh', 'deeplearning'], ['deeplearning', 'pragateesh'], ['loves', 'deeplearning'], ['deeplearning', 'loves'], ['pragateesh', 'good'], ['good', 'pragateesh'], ['pragateesh', 'deeplearning'], ['deeplearning', 'pragateesh'], ['good', 'deeplearning'], ['deeplearning', 'good'], ['manikandan', 'pragateesh'], ['pragateesh', 'manikandan'], ['manikandan', 'studied'], ['studied', 'manikandan'], ['manikandan', 'deeplearning'], ['deeplearning', 'manikandan'], ['pragateesh', 'studied'], ['studied', 'pragateesh'], ['pragateesh', 'deeplearning'], ['deeplearning', 'pragateesh'], ['studied', 'deeplearning'], ['deeplearning', 'studied'], ['nawfal', 'pragateesh'], ['pragateesh', 'nawfal'], ['nawfal', 'studied'], ['studied', 'nawfal'], ['nawfal', 'deeplearning'], ['deeplearning', 'nawfal'], ['pragateesh', 'studied'], ['studied', 'pragateesh'], ['pragateesh', 'deeplearning'], ['deeplearning', 'pragateesh'], ['studied', 'deeplearning'], ['deeplearning', 'studied'], ['sathiesh', 'pragateesh'], ['pragateesh', 'sathiesh'], ['sathiesh', 'studied'], ['studied', 'sathiesh'], ['sathiesh', 'deeplearning'], ['deeplearning', 'sathiesh'], ['pragateesh', 'studied'], ['studied', 'pragateesh'], ['pragateesh', 'deeplearning'], ['deeplearning', 'pragateesh'], ['studied', 'deeplearning'], ['deeplearning', 'studied'], ['pragateesh', 'know'], ['know', 'pragateesh'], ['pragateesh', 'about'], ['about', 'pragateesh'], ['pragateesh', 'transformers'], ['transformers', 'pragateesh'], ['know', 'about'], ['about', 'know'], ['know', 'transformers'], ['transformers', 'know'], ['about', 'transformers'], ['transformers', 'about'], ['sathiesh', 'know'], ['know', 'sathiesh'], ['sathiesh', 'about'], ['about', 'sathiesh'], ['sathiesh', 'transformers'], ['transformers', 'sathiesh'], ['know', 'about'], ['about', 'know'], ['know', 'transformers'], ['transformers', 'know'], ['about', 'transformers'], ['transformers', 'about'], ['manikandan', 'know'], ['know', 'manikandan'], ['manikandan', 'about'], ['about', 'manikandan'], ['manikandan', 'transformers'], ['transformers', 'manikandan'], ['know', 'about'], ['about', 'know'], ['know', 'transformers'], ['transformers', 'know'], ['about', 'transformers'], ['transformers', 'about'], ['pragateesh', 'friends'], ['friends', 'pragateesh'], ['pragateesh', 'manikandan'], ['manikandan', 'pragateesh'], ['pragateesh', 'sathiesh'], ['sathiesh', 'pragateesh'], ['pragateesh', 'nawfal'], ['nawfal', 'pragateesh'], ['pragateesh', 'gowsi'], ['gowsi', 'pragateesh'], ['pragateesh', 'prakash'], ['prakash', 'pragateesh'], ['pragateesh', 'sam'], ['sam', 'pragateesh'], ['friends', 'manikandan'], ['manikandan', 'friends'], ['friends', 'sathiesh'], ['sathiesh', 'friends'], ['friends', 'nawfal'], ['nawfal', 'friends'], ['friends', 'gowsi'], ['gowsi', 'friends'], ['friends', 'prakash'], ['prakash', 'friends'], ['friends', 'sam'], ['sam', 'friends'], ['manikandan', 'sathiesh'], ['sathiesh', 'manikandan'], ['manikandan', 'nawfal'], ['nawfal', 'manikandan'], ['manikandan', 'gowsi'], ['gowsi', 'manikandan'], ['manikandan', 'prakash'], ['prakash', 'manikandan'], ['manikandan', 'sam'], ['sam', 'manikandan'], ['sathiesh', 'nawfal'], ['nawfal', 'sathiesh'], ['sathiesh', 'gowsi'], ['gowsi', 'sathiesh'], ['sathiesh', 'prakash'], ['prakash', 'sathiesh'], ['sathiesh', 'sam'], ['sam', 'sathiesh'], ['nawfal', 'gowsi'], ['gowsi', 'nawfal'], ['nawfal', 'prakash'], ['prakash', 'nawfal'], ['nawfal', 'sam'], ['sam', 'nawfal'], ['gowsi', 'prakash'], ['prakash', 'gowsi'], ['gowsi', 'sam'], ['sam', 'gowsi'], ['prakash', 'sam'], ['sam', 'prakash'], ['manikandan', 'friends'], ['friends', 'manikandan'], ['manikandan', 'pragateesh'], ['pragateesh', 'manikandan'], ['manikandan', 'sathiesh'], ['sathiesh', 'manikandan'], ['manikandan', 'nawfal'], ['nawfal', 'manikandan'], ['manikandan', 'gowsi'], ['gowsi', 'manikandan'], ['manikandan', 'prakash'], ['prakash', 'manikandan'], ['manikandan', 'sam'], ['sam', 'manikandan'], ['friends', 'pragateesh'], ['pragateesh', 'friends'], ['friends', 'sathiesh'], ['sathiesh', 'friends'], ['friends', 'nawfal'], ['nawfal', 'friends'], ['friends', 'gowsi'], ['gowsi', 'friends'], ['friends', 'prakash'], ['prakash', 'friends'], ['friends', 'sam'], ['sam', 'friends'], ['pragateesh', 'sathiesh'], ['sathiesh', 'pragateesh'], ['pragateesh', 'nawfal'], ['nawfal', 'pragateesh'], ['pragateesh', 'gowsi'], ['gowsi', 'pragateesh'], ['pragateesh', 'prakash'], ['prakash', 'pragateesh'], ['pragateesh', 'sam'], ['sam', 'pragateesh'], ['sathiesh', 'nawfal'], ['nawfal', 'sathiesh'], ['sathiesh', 'gowsi'], ['gowsi', 'sathiesh'], ['sathiesh', 'prakash'], ['prakash', 'sathiesh'], ['sathiesh', 'sam'], ['sam', 'sathiesh'], ['nawfal', 'gowsi'], ['gowsi', 'nawfal'], ['nawfal', 'prakash'], ['prakash', 'nawfal'], ['nawfal', 'sam'], ['sam', 'nawfal'], ['gowsi', 'prakash'], ['prakash', 'gowsi'], ['gowsi', 'sam'], ['sam', 'gowsi'], ['prakash', 'sam'], ['sam', 'prakash'], ['sathiesh', 'friends'], ['friends', 'sathiesh'], ['sathiesh', 'pragateesh'], ['pragateesh', 'sathiesh'], ['sathiesh', 'manikandan'], ['manikandan', 'sathiesh'], ['sathiesh', 'nawfal'], ['nawfal', 'sathiesh'], ['sathiesh', 'gowsi'], ['gowsi', 'sathiesh'], ['sathiesh', 'prakash,'], ['prakash,', 'sathiesh'], ['sathiesh', 'sam'], ['sam', 'sathiesh'], ['friends', 'pragateesh'], ['pragateesh', 'friends'], ['friends', 'manikandan'], ['manikandan', 'friends'], ['friends', 'nawfal'], ['nawfal', 'friends'], ['friends', 'gowsi'], ['gowsi', 'friends'], ['friends', 'prakash,'], ['prakash,', 'friends'], ['friends', 'sam'], ['sam', 'friends'], ['pragateesh', 'manikandan'], ['manikandan', 'pragateesh'], ['pragateesh', 'nawfal'], ['nawfal', 'pragateesh'], ['pragateesh', 'gowsi'], ['gowsi', 'pragateesh'], ['pragateesh', 'prakash,'], ['prakash,', 'pragateesh'], ['pragateesh', 'sam'], ['sam', 'pragateesh'], ['manikandan', 'nawfal'], ['nawfal', 'manikandan'], ['manikandan', 'gowsi'], ['gowsi', 'manikandan'], ['manikandan', 'prakash,'], ['prakash,', 'manikandan'], ['manikandan', 'sam'], ['sam', 'manikandan'], ['nawfal', 'gowsi'], ['gowsi', 'nawfal'], ['nawfal', 'prakash,'], ['prakash,', 'nawfal'], ['nawfal', 'sam'], ['sam', 'nawfal'], ['gowsi', 'prakash,'], ['prakash,', 'gowsi'], ['gowsi', 'sam'], ['sam', 'gowsi'], ['prakash,', 'sam'], ['sam', 'prakash,'], ['nawfal', 'friends'], ['friends', 'nawfal'], ['nawfal', 'pragateesh'], ['pragateesh', 'nawfal'], ['nawfal', 'sathiesh'], ['sathiesh', 'nawfal'], ['nawfal', 'manikandan'], ['manikandan', 'nawfal'], ['nawfal', 'gowsi'], ['gowsi', 'nawfal'], ['nawfal', 'prakash'], ['prakash', 'nawfal'], ['nawfal', 'sam'], ['sam', 'nawfal'], ['friends', 'pragateesh'], ['pragateesh', 'friends'], ['friends', 'sathiesh'], ['sathiesh', 'friends'], ['friends', 'manikandan'], ['manikandan', 'friends'], ['friends', 'gowsi'], ['gowsi', 'friends'], ['friends', 'prakash'], ['prakash', 'friends'], ['friends', 'sam'], ['sam', 'friends'], ['pragateesh', 'sathiesh'], ['sathiesh', 'pragateesh'], ['pragateesh', 'manikandan'], ['manikandan', 'pragateesh'], ['pragateesh', 'gowsi'], ['gowsi', 'pragateesh'], ['pragateesh', 'prakash'], ['prakash', 'pragateesh'], ['pragateesh', 'sam'], ['sam', 'pragateesh'], ['sathiesh', 'manikandan'], ['manikandan', 'sathiesh'], ['sathiesh', 'gowsi'], ['gowsi', 'sathiesh'], ['sathiesh', 'prakash'], ['prakash', 'sathiesh'], ['sathiesh', 'sam'], ['sam', 'sathiesh'], ['manikandan', 'gowsi'], ['gowsi', 'manikandan'], ['manikandan', 'prakash'], ['prakash', 'manikandan'], ['manikandan', 'sam'], ['sam', 'manikandan'], ['gowsi', 'prakash'], ['prakash', 'gowsi'], ['gowsi', 'sam'], ['sam', 'gowsi'], ['prakash', 'sam'], ['sam', 'prakash'], ['gowsi', 'friends'], ['friends', 'gowsi'], ['gowsi', 'pragateesh'], ['pragateesh', 'gowsi'], ['gowsi', 'sathiesh'], ['sathiesh', 'gowsi'], ['gowsi', 'manikandan'], ['manikandan', 'gowsi'], ['gowsi', 'nawfal'], ['nawfal', 'gowsi'], ['gowsi', 'prakash'], ['prakash', 'gowsi'], ['gowsi', 'sam'], ['sam', 'gowsi'], ['friends', 'pragateesh'], ['pragateesh', 'friends'], ['friends', 'sathiesh'], ['sathiesh', 'friends'], ['friends', 'manikandan'], ['manikandan', 'friends'], ['friends', 'nawfal'], ['nawfal', 'friends'], ['friends', 'prakash'], ['prakash', 'friends'], ['friends', 'sam'], ['sam', 'friends'], ['pragateesh', 'sathiesh'], ['sathiesh', 'pragateesh'], ['pragateesh', 'manikandan'], ['manikandan', 'pragateesh'], ['pragateesh', 'nawfal'], ['nawfal', 'pragateesh'], ['pragateesh', 'prakash'], ['prakash', 'pragateesh'], ['pragateesh', 'sam'], ['sam', 'pragateesh'], ['sathiesh', 'manikandan'], ['manikandan', 'sathiesh'], ['sathiesh', 'nawfal'], ['nawfal', 'sathiesh'], ['sathiesh', 'prakash'], ['prakash', 'sathiesh'], ['sathiesh', 'sam'], ['sam', 'sathiesh'], ['manikandan', 'nawfal'], ['nawfal', 'manikandan'], ['manikandan', 'prakash'], ['prakash', 'manikandan'], ['manikandan', 'sam'], ['sam', 'manikandan'], ['nawfal', 'prakash'], ['prakash', 'nawfal'], ['nawfal', 'sam'], ['sam', 'nawfal'], ['prakash', 'sam'], ['sam', 'prakash'], ['prakash', 'friends'], ['friends', 'prakash'], ['prakash', 'pragateesh'], ['pragateesh', 'prakash'], ['prakash', 'sathiesh'], ['sathiesh', 'prakash'], ['prakash', 'manikandan'], ['manikandan', 'prakash'], ['prakash', 'nawfal'], ['nawfal', 'prakash'], ['prakash', 'gowsi'], ['gowsi', 'prakash'], ['prakash', 'sam'], ['sam', 'prakash'], ['friends', 'pragateesh'], ['pragateesh', 'friends'], ['friends', 'sathiesh'], ['sathiesh', 'friends'], ['friends', 'manikandan'], ['manikandan', 'friends'], ['friends', 'nawfal'], ['nawfal', 'friends'], ['friends', 'gowsi'], ['gowsi', 'friends'], ['friends', 'sam'], ['sam', 'friends'], ['pragateesh', 'sathiesh'], ['sathiesh', 'pragateesh'], ['pragateesh', 'manikandan'], ['manikandan', 'pragateesh'], ['pragateesh', 'nawfal'], ['nawfal', 'pragateesh'], ['pragateesh', 'gowsi'], ['gowsi', 'pragateesh'], ['pragateesh', 'sam'], ['sam', 'pragateesh'], ['sathiesh', 'manikandan'], ['manikandan', 'sathiesh'], ['sathiesh', 'nawfal'], ['nawfal', 'sathiesh'], ['sathiesh', 'gowsi'], ['gowsi', 'sathiesh'], ['sathiesh', 'sam'], ['sam', 'sathiesh'], ['manikandan', 'nawfal'], ['nawfal', 'manikandan'], ['manikandan', 'gowsi'], ['gowsi', 'manikandan'], ['manikandan', 'sam'], ['sam', 'manikandan'], ['nawfal', 'gowsi'], ['gowsi', 'nawfal'], ['nawfal', 'sam'], ['sam', 'nawfal'], ['gowsi', 'sam'], ['sam', 'gowsi'], ['sam', 'friends'], ['friends', 'sam'], ['sam', 'pragateesh'], ['pragateesh', 'sam'], ['sam', 'sathiesh'], ['sathiesh', 'sam'], ['sam', 'manikandan'], ['manikandan', 'sam'], ['sam', 'nawfal'], ['nawfal', 'sam'], ['sam', 'prakash'], ['prakash', 'sam'], ['sam', 'gowsi'], ['gowsi', 'sam'], ['friends', 'pragateesh'], ['pragateesh', 'friends'], ['friends', 'sathiesh'], ['sathiesh', 'friends'], ['friends', 'manikandan'], ['manikandan', 'friends'], ['friends', 'nawfal'], ['nawfal', 'friends'], ['friends', 'prakash'], ['prakash', 'friends'], ['friends', 'gowsi'], ['gowsi', 'friends'], ['pragateesh', 'sathiesh'], ['sathiesh', 'pragateesh'], ['pragateesh', 'manikandan'], ['manikandan', 'pragateesh'], ['pragateesh', 'nawfal'], ['nawfal', 'pragateesh'], ['pragateesh', 'prakash'], ['prakash', 'pragateesh'], ['pragateesh', 'gowsi'], ['gowsi', 'pragateesh'], ['sathiesh', 'manikandan'], ['manikandan', 'sathiesh'], ['sathiesh', 'nawfal'], ['nawfal', 'sathiesh'], ['sathiesh', 'prakash'], ['prakash', 'sathiesh'], ['sathiesh', 'gowsi'], ['gowsi', 'sathiesh'], ['manikandan', 'nawfal'], ['nawfal', 'manikandan'], ['manikandan', 'prakash'], ['prakash', 'manikandan'], ['manikandan', 'gowsi'], ['gowsi', 'manikandan'], ['nawfal', 'prakash'], ['prakash', 'nawfal'], ['nawfal', 'gowsi'], ['gowsi', 'nawfal'], ['prakash', 'gowsi'], ['gowsi', 'prakash'], ['manikandan', 'beat'], ['beat', 'manikandan'], ['manikandan', 'hod'], ['hod', 'manikandan'], ['beat', 'hod'], ['hod', 'beat'], ['pragateesh', 'loves'], ['loves', 'pragateesh'], ['pragateesh', 'deeplearning'], ['deeplearning', 'pragateesh'], ['loves', 'deeplearning'], ['deeplearning', 'loves'], ['prakash', 'scold'], ['scold', 'prakash'], ['prakash', 'hod'], ['hod', 'prakash'], ['scold', 'hod'], ['hod', 'scold'], ['gowsi', 'scold'], ['scold', 'gowsi'], ['gowsi', 'hod'], ['hod', 'gowsi'], ['scold', 'hod'], ['hod', 'scold'], ['sam', 'scold'], ['scold', 'sam'], ['sam', 'hod'], ['hod', 'sam'], ['scold', 'hod'], ['hod', 'scold'], ['nawfal', 'ui'], ['ui', 'nawfal'], ['nawfal', 'specialist'], ['specialist', 'nawfal'], ['ui', 'specialist'], ['specialist', 'ui'], ['nawfal', 'good'], ['good', 'nawfal'], ['nawfal', 'ui'], ['ui', 'nawfal'], ['good', 'ui'], ['ui', 'good'], ['nawfal', 'knows'], ['knows', 'nawfal'], ['nawfal', 'well'], ['well', 'nawfal'], ['nawfal', 'about'], ['about', 'nawfal'], ['nawfal', 'ui'], ['ui', 'nawfal'], ['knows', 'well'], ['well', 'knows'], ['knows', 'about'], ['about', 'knows'], ['knows', 'ui'], ['ui', 'knows'], ['well', 'about'], ['about', 'well'], ['well', 'ui'], ['ui', 'well'], ['about', 'ui'], ['ui', 'about'], ['nawfal', 'creates'], ['creates', 'nawfal'], ['nawfal', 'many'], ['many', 'nawfal'], ['nawfal', 'ui'], ['ui', 'nawfal'], ['creates', 'many'], ['many', 'creates'], ['creates', 'ui'], ['ui', 'creates'], ['many', 'ui'], ['ui', 'many'], ['prakash', 'good'], ['good', 'prakash'], ['prakash', 'cars'], ['cars', 'prakash'], ['good', 'cars'], ['cars', 'good'], ['prakash', 'good'], ['good', 'prakash'], ['prakash', 'bikes'], ['bikes', 'prakash'], ['good', 'bikes'], ['bikes', 'good'], ['prakash', 'repairing'], ['repairing', 'prakash'], ['prakash', 'bikes'], ['bikes', 'prakash'], ['repairing', 'bikes'], ['bikes', 'repairing'], ['prakash', 'repairing'], ['repairing', 'prakash'], ['prakash', 'cars'], ['cars', 'prakash'], ['repairing', 'cars'], ['cars', 'repairing'], ['prakash', 'driving'], ['driving', 'prakash'], ['prakash', 'cars'], ['cars', 'prakash'], ['driving', 'cars'], ['cars', 'driving'], ['prakash', 'driving'], ['driving', 'prakash'], ['prakash', 'bikes'], ['bikes', 'prakash'], ['driving', 'bikes'], ['bikes', 'driving'], ['sam', 'great'], ['great', 'sam'], ['sam', 'mechanic'], ['mechanic', 'sam'], ['great', 'mechanic'], ['mechanic', 'great'], ['sam', 'love'], ['love', 'sam'], ['sam', 'be'], ['be', 'sam'], ['sam', 'mechanic'], ['mechanic', 'sam'], ['love', 'be'], ['be', 'love'], ['love', 'mechanic'], ['mechanic', 'love'], ['be', 'mechanic'], ['mechanic', 'be']]\n"
     ]
    }
   ],
   "source": [
    "bigrams = []\n",
    "for words_list in pure_content:\n",
    "    for i in range(len(words_list) - 1):\n",
    "        for j in range(i+1, len(words_list)):\n",
    "            bigrams.append([words_list[i], words_list[j]])\n",
    "            bigrams.append([words_list[j], words_list[i]])\n",
    "            \n",
    "\n",
    "print(bigrams)"
   ]
  },
  {
   "cell_type": "markdown",
   "metadata": {},
   "source": [
    "### Create one Hot encoding"
   ]
  },
  {
   "cell_type": "code",
   "execution_count": 6,
   "metadata": {},
   "outputs": [
    {
     "name": "stdout",
     "output_type": "stream",
     "text": [
      "['pragateesh', 'loves', 'deeplearning', 'good', 'manikandan', 'studied', 'nawfal', 'sathiesh', 'know', 'about', 'transformers', 'friends', 'gowsi', 'prakash', 'sam', 'prakash,', 'beat', 'hod', 'scold', 'ui', 'specialist', 'knows', 'well', 'creates', 'many', 'cars', 'bikes', 'repairing', 'driving', 'great', 'mechanic', 'love', 'be']\n",
      "The total content is: \n",
      "33\n"
     ]
    }
   ],
   "source": [
    "total_words = []\n",
    "for words_list in pure_content:\n",
    "    for words in words_list:\n",
    "        if words not in total_words:\n",
    "            total_words.append(words)\n",
    "\n",
    "print(total_words)\n",
    "print(\"The total content is: \")\n",
    "print(len(total_words))\n"
   ]
  },
  {
   "cell_type": "code",
   "execution_count": 7,
   "metadata": {},
   "outputs": [
    {
     "name": "stdout",
     "output_type": "stream",
     "text": [
      "{'pragateesh': 0, 'loves': 1, 'deeplearning': 2, 'good': 3, 'manikandan': 4, 'studied': 5, 'nawfal': 6, 'sathiesh': 7, 'know': 8, 'about': 9, 'transformers': 10, 'friends': 11, 'gowsi': 12, 'prakash': 13, 'sam': 14, 'prakash,': 15, 'beat': 16, 'hod': 17, 'scold': 18, 'ui': 19, 'specialist': 20, 'knows': 21, 'well': 22, 'creates': 23, 'many': 24, 'cars': 25, 'bikes': 26, 'repairing': 27, 'driving': 28, 'great': 29, 'mechanic': 30, 'love': 31, 'be': 32}\n"
     ]
    }
   ],
   "source": [
    "words_dict = {}\n",
    "\n",
    "counter = 0\n",
    "for word in total_words:\n",
    "    words_dict[word] = counter\n",
    "    counter += 1\n",
    "\n",
    "print(words_dict)"
   ]
  },
  {
   "cell_type": "code",
   "execution_count": 8,
   "metadata": {},
   "outputs": [
    {
     "name": "stdout",
     "output_type": "stream",
     "text": [
      "pragateesh : [1. 0. 0. 0. 0. 0. 0. 0. 0. 0. 0. 0. 0. 0. 0. 0. 0. 0. 0. 0. 0. 0. 0. 0.\n",
      " 0. 0. 0. 0. 0. 0. 0. 0. 0.]\n",
      "loves : [0. 1. 0. 0. 0. 0. 0. 0. 0. 0. 0. 0. 0. 0. 0. 0. 0. 0. 0. 0. 0. 0. 0. 0.\n",
      " 0. 0. 0. 0. 0. 0. 0. 0. 0.]\n",
      "deeplearning : [0. 0. 1. 0. 0. 0. 0. 0. 0. 0. 0. 0. 0. 0. 0. 0. 0. 0. 0. 0. 0. 0. 0. 0.\n",
      " 0. 0. 0. 0. 0. 0. 0. 0. 0.]\n",
      "good : [0. 0. 0. 1. 0. 0. 0. 0. 0. 0. 0. 0. 0. 0. 0. 0. 0. 0. 0. 0. 0. 0. 0. 0.\n",
      " 0. 0. 0. 0. 0. 0. 0. 0. 0.]\n",
      "manikandan : [0. 0. 0. 0. 1. 0. 0. 0. 0. 0. 0. 0. 0. 0. 0. 0. 0. 0. 0. 0. 0. 0. 0. 0.\n",
      " 0. 0. 0. 0. 0. 0. 0. 0. 0.]\n",
      "studied : [0. 0. 0. 0. 0. 1. 0. 0. 0. 0. 0. 0. 0. 0. 0. 0. 0. 0. 0. 0. 0. 0. 0. 0.\n",
      " 0. 0. 0. 0. 0. 0. 0. 0. 0.]\n",
      "nawfal : [0. 0. 0. 0. 0. 0. 1. 0. 0. 0. 0. 0. 0. 0. 0. 0. 0. 0. 0. 0. 0. 0. 0. 0.\n",
      " 0. 0. 0. 0. 0. 0. 0. 0. 0.]\n",
      "sathiesh : [0. 0. 0. 0. 0. 0. 0. 1. 0. 0. 0. 0. 0. 0. 0. 0. 0. 0. 0. 0. 0. 0. 0. 0.\n",
      " 0. 0. 0. 0. 0. 0. 0. 0. 0.]\n",
      "know : [0. 0. 0. 0. 0. 0. 0. 0. 1. 0. 0. 0. 0. 0. 0. 0. 0. 0. 0. 0. 0. 0. 0. 0.\n",
      " 0. 0. 0. 0. 0. 0. 0. 0. 0.]\n",
      "about : [0. 0. 0. 0. 0. 0. 0. 0. 0. 1. 0. 0. 0. 0. 0. 0. 0. 0. 0. 0. 0. 0. 0. 0.\n",
      " 0. 0. 0. 0. 0. 0. 0. 0. 0.]\n",
      "transformers : [0. 0. 0. 0. 0. 0. 0. 0. 0. 0. 1. 0. 0. 0. 0. 0. 0. 0. 0. 0. 0. 0. 0. 0.\n",
      " 0. 0. 0. 0. 0. 0. 0. 0. 0.]\n",
      "friends : [0. 0. 0. 0. 0. 0. 0. 0. 0. 0. 0. 1. 0. 0. 0. 0. 0. 0. 0. 0. 0. 0. 0. 0.\n",
      " 0. 0. 0. 0. 0. 0. 0. 0. 0.]\n",
      "gowsi : [0. 0. 0. 0. 0. 0. 0. 0. 0. 0. 0. 0. 1. 0. 0. 0. 0. 0. 0. 0. 0. 0. 0. 0.\n",
      " 0. 0. 0. 0. 0. 0. 0. 0. 0.]\n",
      "prakash : [0. 0. 0. 0. 0. 0. 0. 0. 0. 0. 0. 0. 0. 1. 0. 0. 0. 0. 0. 0. 0. 0. 0. 0.\n",
      " 0. 0. 0. 0. 0. 0. 0. 0. 0.]\n",
      "sam : [0. 0. 0. 0. 0. 0. 0. 0. 0. 0. 0. 0. 0. 0. 1. 0. 0. 0. 0. 0. 0. 0. 0. 0.\n",
      " 0. 0. 0. 0. 0. 0. 0. 0. 0.]\n",
      "prakash, : [0. 0. 0. 0. 0. 0. 0. 0. 0. 0. 0. 0. 0. 0. 0. 1. 0. 0. 0. 0. 0. 0. 0. 0.\n",
      " 0. 0. 0. 0. 0. 0. 0. 0. 0.]\n",
      "beat : [0. 0. 0. 0. 0. 0. 0. 0. 0. 0. 0. 0. 0. 0. 0. 0. 1. 0. 0. 0. 0. 0. 0. 0.\n",
      " 0. 0. 0. 0. 0. 0. 0. 0. 0.]\n",
      "hod : [0. 0. 0. 0. 0. 0. 0. 0. 0. 0. 0. 0. 0. 0. 0. 0. 0. 1. 0. 0. 0. 0. 0. 0.\n",
      " 0. 0. 0. 0. 0. 0. 0. 0. 0.]\n",
      "scold : [0. 0. 0. 0. 0. 0. 0. 0. 0. 0. 0. 0. 0. 0. 0. 0. 0. 0. 1. 0. 0. 0. 0. 0.\n",
      " 0. 0. 0. 0. 0. 0. 0. 0. 0.]\n",
      "ui : [0. 0. 0. 0. 0. 0. 0. 0. 0. 0. 0. 0. 0. 0. 0. 0. 0. 0. 0. 1. 0. 0. 0. 0.\n",
      " 0. 0. 0. 0. 0. 0. 0. 0. 0.]\n",
      "specialist : [0. 0. 0. 0. 0. 0. 0. 0. 0. 0. 0. 0. 0. 0. 0. 0. 0. 0. 0. 0. 1. 0. 0. 0.\n",
      " 0. 0. 0. 0. 0. 0. 0. 0. 0.]\n",
      "knows : [0. 0. 0. 0. 0. 0. 0. 0. 0. 0. 0. 0. 0. 0. 0. 0. 0. 0. 0. 0. 0. 1. 0. 0.\n",
      " 0. 0. 0. 0. 0. 0. 0. 0. 0.]\n",
      "well : [0. 0. 0. 0. 0. 0. 0. 0. 0. 0. 0. 0. 0. 0. 0. 0. 0. 0. 0. 0. 0. 0. 1. 0.\n",
      " 0. 0. 0. 0. 0. 0. 0. 0. 0.]\n",
      "creates : [0. 0. 0. 0. 0. 0. 0. 0. 0. 0. 0. 0. 0. 0. 0. 0. 0. 0. 0. 0. 0. 0. 0. 1.\n",
      " 0. 0. 0. 0. 0. 0. 0. 0. 0.]\n",
      "many : [0. 0. 0. 0. 0. 0. 0. 0. 0. 0. 0. 0. 0. 0. 0. 0. 0. 0. 0. 0. 0. 0. 0. 0.\n",
      " 1. 0. 0. 0. 0. 0. 0. 0. 0.]\n",
      "cars : [0. 0. 0. 0. 0. 0. 0. 0. 0. 0. 0. 0. 0. 0. 0. 0. 0. 0. 0. 0. 0. 0. 0. 0.\n",
      " 0. 1. 0. 0. 0. 0. 0. 0. 0.]\n",
      "bikes : [0. 0. 0. 0. 0. 0. 0. 0. 0. 0. 0. 0. 0. 0. 0. 0. 0. 0. 0. 0. 0. 0. 0. 0.\n",
      " 0. 0. 1. 0. 0. 0. 0. 0. 0.]\n",
      "repairing : [0. 0. 0. 0. 0. 0. 0. 0. 0. 0. 0. 0. 0. 0. 0. 0. 0. 0. 0. 0. 0. 0. 0. 0.\n",
      " 0. 0. 0. 1. 0. 0. 0. 0. 0.]\n",
      "driving : [0. 0. 0. 0. 0. 0. 0. 0. 0. 0. 0. 0. 0. 0. 0. 0. 0. 0. 0. 0. 0. 0. 0. 0.\n",
      " 0. 0. 0. 0. 1. 0. 0. 0. 0.]\n",
      "great : [0. 0. 0. 0. 0. 0. 0. 0. 0. 0. 0. 0. 0. 0. 0. 0. 0. 0. 0. 0. 0. 0. 0. 0.\n",
      " 0. 0. 0. 0. 0. 1. 0. 0. 0.]\n",
      "mechanic : [0. 0. 0. 0. 0. 0. 0. 0. 0. 0. 0. 0. 0. 0. 0. 0. 0. 0. 0. 0. 0. 0. 0. 0.\n",
      " 0. 0. 0. 0. 0. 0. 1. 0. 0.]\n",
      "love : [0. 0. 0. 0. 0. 0. 0. 0. 0. 0. 0. 0. 0. 0. 0. 0. 0. 0. 0. 0. 0. 0. 0. 0.\n",
      " 0. 0. 0. 0. 0. 0. 0. 1. 0.]\n",
      "be : [0. 0. 0. 0. 0. 0. 0. 0. 0. 0. 0. 0. 0. 0. 0. 0. 0. 0. 0. 0. 0. 0. 0. 0.\n",
      " 0. 0. 0. 0. 0. 0. 0. 0. 1.]\n"
     ]
    }
   ],
   "source": [
    "import numpy as np\n",
    "\n",
    "onehot_data = np.zeros((len(total_words), len(total_words)))\n",
    "\n",
    "for i in range(len(total_words)):\n",
    "    onehot_data[i][i] = 1\n",
    "\n",
    "onehot_dict = {}\n",
    "counter = 0\n",
    "for word in total_words:\n",
    "    onehot_dict[word] = onehot_data[counter]\n",
    "    counter += 1\n",
    "\n",
    "for word in onehot_dict:\n",
    "    print(word, \":\", onehot_dict[word])"
   ]
  },
  {
   "cell_type": "markdown",
   "metadata": {},
   "source": [
    "### Dataset Creation"
   ]
  },
  {
   "cell_type": "code",
   "execution_count": 9,
   "metadata": {},
   "outputs": [],
   "source": [
    "X = []\n",
    "Y = []\n",
    "\n",
    "for bi in bigrams:\n",
    "    X.append(onehot_dict[bi[0]])\n",
    "    Y.append(onehot_dict[bi[1]])\n",
    "    \n",
    "X = np.array(X)\n",
    "Y = np.array(Y)"
   ]
  },
  {
   "cell_type": "code",
   "execution_count": 10,
   "metadata": {},
   "outputs": [
    {
     "name": "stdout",
     "output_type": "stream",
     "text": [
      "[1. 0. 0. 0. 0. 0. 0. 0. 0. 0. 0. 0. 0. 0. 0. 0. 0. 0. 0. 0. 0. 0. 0. 0.\n",
      " 0. 0. 0. 0. 0. 0. 0. 0. 0.] : [0. 1. 0. 0. 0. 0. 0. 0. 0. 0. 0. 0. 0. 0. 0. 0. 0. 0. 0. 0. 0. 0. 0. 0.\n",
      " 0. 0. 0. 0. 0. 0. 0. 0. 0.]\n"
     ]
    }
   ],
   "source": [
    "print(X[0], \":\", Y[0])"
   ]
  },
  {
   "cell_type": "code",
   "execution_count": 11,
   "metadata": {},
   "outputs": [
    {
     "name": "stdout",
     "output_type": "stream",
     "text": [
      "pragateesh : loves\n"
     ]
    }
   ],
   "source": [
    "def get_key(val):\n",
    "    for key, value in onehot_dict.items():\n",
    "        if np.array_equal(val, value):\n",
    "            return key\n",
    "    return \"Key doesn't exist\"\n",
    "\n",
    "print(get_key(X[0]), \":\", get_key(Y[0]))"
   ]
  },
  {
   "cell_type": "markdown",
   "metadata": {},
   "source": [
    "### Most interesting part.. Let's Build Neural Nets"
   ]
  },
  {
   "cell_type": "code",
   "execution_count": 12,
   "metadata": {},
   "outputs": [],
   "source": [
    "import warnings \n",
    "warnings.filterwarnings(\"ignore\")"
   ]
  },
  {
   "cell_type": "code",
   "execution_count": 13,
   "metadata": {},
   "outputs": [
    {
     "name": "stdout",
     "output_type": "stream",
     "text": [
      "WARNING:tensorflow:From c:\\Users\\ADMIN\\AppData\\Local\\Programs\\Python\\Python39\\lib\\site-packages\\keras\\src\\losses.py:2976: The name tf.losses.sparse_softmax_cross_entropy is deprecated. Please use tf.compat.v1.losses.sparse_softmax_cross_entropy instead.\n",
      "\n",
      "WARNING:tensorflow:From c:\\Users\\ADMIN\\AppData\\Local\\Programs\\Python\\Python39\\lib\\site-packages\\keras\\src\\backend.py:873: The name tf.get_default_graph is deprecated. Please use tf.compat.v1.get_default_graph instead.\n",
      "\n"
     ]
    }
   ],
   "source": [
    "from tensorflow.keras.models import Sequential\n",
    "from tensorflow.keras.layers import Dense\n",
    "\n",
    "embed_size = 2\n",
    "\n",
    "model = Sequential([\n",
    "    Dense(embed_size, activation='linear'),\n",
    "    Dense(Y.shape[1], activation = 'softmax')\n",
    "])\n",
    "\n"
   ]
  },
  {
   "cell_type": "code",
   "execution_count": 14,
   "metadata": {},
   "outputs": [
    {
     "name": "stdout",
     "output_type": "stream",
     "text": [
      "WARNING:tensorflow:From c:\\Users\\ADMIN\\AppData\\Local\\Programs\\Python\\Python39\\lib\\site-packages\\keras\\src\\optimizers\\__init__.py:309: The name tf.train.Optimizer is deprecated. Please use tf.compat.v1.train.Optimizer instead.\n",
      "\n"
     ]
    }
   ],
   "source": [
    "model.compile(loss = 'categorical_crossentropy', optimizer = 'adam')"
   ]
  },
  {
   "cell_type": "code",
   "execution_count": 15,
   "metadata": {},
   "outputs": [
    {
     "name": "stdout",
     "output_type": "stream",
     "text": [
      "Model: \"sequential\"\n",
      "_________________________________________________________________\n",
      " Layer (type)                Output Shape              Param #   \n",
      "=================================================================\n",
      " dense (Dense)               (None, 2)                 68        \n",
      "                                                                 \n",
      " dense_1 (Dense)             (None, 33)                99        \n",
      "                                                                 \n",
      "=================================================================\n",
      "Total params: 167 (668.00 Byte)\n",
      "Trainable params: 167 (668.00 Byte)\n",
      "Non-trainable params: 0 (0.00 Byte)\n",
      "_________________________________________________________________\n"
     ]
    }
   ],
   "source": [
    "model.build(input_shape=(None, X.shape[1]))\n",
    "model.summary()"
   ]
  },
  {
   "cell_type": "code",
   "execution_count": 16,
   "metadata": {},
   "outputs": [
    {
     "name": "stdout",
     "output_type": "stream",
     "text": [
      "WARNING:tensorflow:From c:\\Users\\ADMIN\\AppData\\Local\\Programs\\Python\\Python39\\lib\\site-packages\\keras\\src\\utils\\tf_utils.py:492: The name tf.ragged.RaggedTensorValue is deprecated. Please use tf.compat.v1.ragged.RaggedTensorValue instead.\n",
      "\n"
     ]
    },
    {
     "data": {
      "text/plain": [
       "<keras.src.callbacks.History at 0x22783333e50>"
      ]
     },
     "execution_count": 16,
     "metadata": {},
     "output_type": "execute_result"
    }
   ],
   "source": [
    "model.fit(X, Y, epochs = 1000, batch_size = 256, verbose = False)"
   ]
  },
  {
   "cell_type": "code",
   "execution_count": 199,
   "metadata": {},
   "outputs": [],
   "source": [
    "weights = model.get_weights()[0]\n",
    "\n",
    "word_embeddings = {}\n",
    "for word in total_words:\n",
    "    word_embeddings[word] = weights[words_dict[word]]"
   ]
  },
  {
   "cell_type": "code",
   "execution_count": 200,
   "metadata": {},
   "outputs": [
    {
     "name": "stdout",
     "output_type": "stream",
     "text": [
      "{'pragateesh': array([-0.23091474, -1.4490732 ], dtype=float32), 'loves': array([-0.60963804, -4.190545  ], dtype=float32), 'deeplearning': array([-0.6112178, -2.2262642], dtype=float32), 'good': array([0.51078767, 0.83277035], dtype=float32), 'manikandan': array([ 0.11916244, -0.9120357 ], dtype=float32), 'studied': array([-0.22558464, -3.9978106 ], dtype=float32), 'nawfal': array([ 0.07280162, -0.00591051], dtype=float32), 'sathiesh': array([ 0.11750665, -1.17384   ], dtype=float32), 'know': array([-1.37957  , -1.0052812], dtype=float32), 'about': array([-1.2221752 , -0.08603618], dtype=float32), 'transformers': array([-1.3837171, -1.0721347], dtype=float32), 'friends': array([ 2.089624 , -1.5843811], dtype=float32), 'gowsi': array([ 1.6639732 , -0.75561094], dtype=float32), 'prakash': array([1.4386816 , 0.60226107], dtype=float32), 'sam': array([ 0.5234068 , -0.29639614], dtype=float32), 'prakash,': array([ 1.7614925, -2.2785513], dtype=float32), 'beat': array([3.2367277, 0.6674066], dtype=float32), 'hod': array([0.5353075 , 0.46994525], dtype=float32), 'scold': array([4.358719  , 0.64586645], dtype=float32), 'ui': array([-0.60745305,  0.68015784], dtype=float32), 'specialist': array([-0.08427069,  0.9072256 ], dtype=float32), 'knows': array([-1.0509015,  0.7323148], dtype=float32), 'well': array([-1.0507947,  0.7421697], dtype=float32), 'creates': array([-0.28299648,  1.1331258 ], dtype=float32), 'many': array([-0.3026405,  1.1372066], dtype=float32), 'cars': array([1.2078782, 1.1341044], dtype=float32), 'bikes': array([1.195961 , 1.1538198], dtype=float32), 'repairing': array([2.7127078, 1.3859788], dtype=float32), 'driving': array([2.6455815, 1.4011047], dtype=float32), 'great': array([-0.30214483,  0.08681604], dtype=float32), 'mechanic': array([-0.34108284,  0.39232773], dtype=float32), 'love': array([-0.5333753 ,  0.29650798], dtype=float32), 'be': array([-0.4282962,  0.3789451], dtype=float32)}\n"
     ]
    }
   ],
   "source": [
    "print(word_embeddings)"
   ]
  },
  {
   "cell_type": "code",
   "execution_count": 201,
   "metadata": {},
   "outputs": [
    {
     "data": {
      "image/png": "[encoded data removed]",
      "text/plain": [
       "<Figure size 1000x1000 with 1 Axes>"
      ]
     },
     "metadata": {},
     "output_type": "display_data"
    }
   ],
   "source": [
    "import matplotlib.pyplot as plt\n",
    "\n",
    "plt.figure(figsize = (10, 10))\n",
    "for word in list(words_dict.keys()):\n",
    "    coord = word_embeddings.get(word)\n",
    "    plt.scatter(coord[0], coord[1])\n",
    "    plt.annotate(word, (coord[0], coord[1]))\n",
    "plt.grid(True)\n",
    "plt.show()"
   ]
  },
  {
   "cell_type": "markdown",
   "metadata": {},
   "source": [
    "### FAQ"
   ]
  },
  {
   "cell_type": "markdown",
   "metadata": {},
   "source": [
    "1. Is it supervised are unsupervised\n",
    "2. Always One-Hot?\n",
    "3. can we use Linear (or Dense) layer instead of Embedding Layer"
   ]
  },
  {
   "cell_type": "code",
   "execution_count": 17,
   "metadata": {},
   "outputs": [],
   "source": [
    "import torch\n",
    "x = torch.nn.Embedding(6, 3)"
   ]
  },
  {
   "cell_type": "code",
   "execution_count": 18,
   "metadata": {},
   "outputs": [
    {
     "data": {
      "text/plain": [
       "tensor([[-0.4701, -0.8363, -1.4285,  1.2494, -1.7735],\n",
       "        [-1.1484,  1.2325, -0.5549, -2.1882,  0.8559],\n",
       "        [ 0.4220, -1.2622,  0.3572,  0.4925,  0.1104]],\n",
       "       grad_fn=<PermuteBackward0>)"
      ]
     },
     "execution_count": 18,
     "metadata": {},
     "output_type": "execute_result"
    }
   ],
   "source": [
    "x(torch.tensor([1, 2, 3, 4, 5])).T"
   ]
  },
  {
   "cell_type": "code",
   "execution_count": 21,
   "metadata": {},
   "outputs": [
    {
     "data": {
      "text/plain": [
       "torch.Size([5, 5])"
      ]
     },
     "execution_count": 21,
     "metadata": {},
     "output_type": "execute_result"
    }
   ],
   "source": [
    "(x(torch.tensor([1, 2, 3, 4, 5])) @ x(torch.tensor([1, 2, 3, 4, 5])).T).shape"
   ]
  },
  {
   "cell_type": "code",
   "execution_count": 26,
   "metadata": {},
   "outputs": [
    {
     "data": {
      "text/plain": [
       "tensor([[  1.2552,  -9.4549,   4.2480],\n",
       "        [-12.2481,  18.0511,  -7.3297],\n",
       "        [ -8.4865,  -0.3175,   1.4621],\n",
       "        [ 18.6007, -25.4859,   9.0677],\n",
       "        [-16.8941,  14.0679,  -3.8792]], grad_fn=<MmBackward0>)"
      ]
     },
     "execution_count": 26,
     "metadata": {},
     "output_type": "execute_result"
    }
   ],
   "source": [
    "((x(torch.tensor([1, 2, 3, 4, 5])) @ x(torch.tensor([1, 2, 3, 4, 5])).T ) @ x(torch.tensor([1, 2, 3, 4, 5])))"
   ]
  },
  {
   "cell_type": "code",
   "execution_count": 25,
   "metadata": {},
   "outputs": [
    {
     "data": {
      "text/plain": [
       "tensor([[  1.2552,  -9.4549,   4.2480],\n",
       "        [-12.2481,  18.0511,  -7.3297],\n",
       "        [ -8.4865,  -0.3175,   1.4621],\n",
       "        [ 18.6007, -25.4859,   9.0677],\n",
       "        [-16.8941,  14.0679,  -3.8792]], grad_fn=<MmBackward0>)"
      ]
     },
     "execution_count": 25,
     "metadata": {},
     "output_type": "execute_result"
    }
   ],
   "source": [
    "((x(torch.tensor([1, 2, 3, 4, 5])) @ x(torch.tensor([1, 2, 3, 4, 5])).T ) @ x(torch.tensor([1, 2, 3, 4, 5])))"
   ]
  },
  {
   "cell_type": "code",
   "execution_count": null,
   "metadata": {},
   "outputs": [],
   "source": []
  }
 ],
 "metadata": {
  "kernelspec": {
   "display_name": "Python 3",
   "language": "python",
   "name": "python3"
  },
  "language_info": {
   "codemirror_mode": {
    "name": "ipython",
    "version": 3
   },
   "file_extension": ".py",
   "mimetype": "text/x-python",
   "name": "python",
   "nbconvert_exporter": "python",
   "pygments_lexer": "ipython3",
   "version": "3.9.0"
  }
 },
 "nbformat": 4,
 "nbformat_minor": 2
}

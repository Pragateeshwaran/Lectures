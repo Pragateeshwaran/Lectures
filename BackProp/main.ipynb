{
 "cells": [
  {
   "cell_type": "code",
   "execution_count": 48,
   "id": "6643585e",
   "metadata": {},
   "outputs": [],
   "source": [
    "import torch \n",
    "import torch.optim\n",
    "import torch.nn as nn\n",
    "import matplotlib.pyplot as pl\n",
    "torch.manual_seed(0)\n",
    "torch.cuda.manual_seed(0)"
   ]
  },
  {
   "cell_type": "code",
   "execution_count": 49,
   "id": "29fd7a80",
   "metadata": {},
   "outputs": [],
   "source": [
    "class latent(nn.Module):\n",
    "    def __init__(self):\n",
    "        super().__init__()\n",
    "        self.input_hidden = nn.Linear(9, 2)\n",
    "        self.hidden_out = nn.Linear(2, 9)\n",
    "    def forward(self, x):\n",
    "        x = self.input_hidden(x)\n",
    "        x = self.hidden_out(x)\n",
    "        return x"
   ]
  },
  {
   "cell_type": "code",
   "execution_count": 50,
   "id": "af935891",
   "metadata": {},
   "outputs": [],
   "source": [
    "model = latent()"
   ]
  },
  {
   "cell_type": "code",
   "execution_count": 51,
   "id": "09859ce2",
   "metadata": {},
   "outputs": [
    {
     "data": {
      "text/plain": [
       "latent(\n",
       "  (input_hidden): Linear(in_features=9, out_features=2, bias=True)\n",
       "  (hidden_out): Linear(in_features=2, out_features=9, bias=True)\n",
       ")"
      ]
     },
     "execution_count": 51,
     "metadata": {},
     "output_type": "execute_result"
    }
   ],
   "source": [
    "model"
   ]
  },
  {
   "cell_type": "code",
   "execution_count": 52,
   "id": "5be7600a",
   "metadata": {},
   "outputs": [],
   "source": [
    "sentences = [\n",
    "    [\"dog\", \"puppy\", \"bark\"],       \n",
    "    [\"eagle\", \"sparrow\", \"soar\"],   \n",
    "    [\"fish\", \"shark\", \"swim\"],\n",
    "    [\"dog\", \"puppy\", \"bark\"],       \n",
    "    [\"eagle\", \"sparrow\", \"soar\"],   \n",
    "    [\"fish\", \"shark\", \"swim\"],\n",
    "    [\"dog\", \"puppy\", \"bark\"],       \n",
    "    [\"eagle\", \"sparrow\", \"soar\"],   \n",
    "    [\"fish\", \"shark\", \"swim\"],\n",
    "    [\"dog\", \"puppy\", \"bark\"],       \n",
    "    [\"eagle\", \"sparrow\", \"soar\"],   \n",
    "    [\"fish\", \"shark\", \"swim\"],\n",
    "    [\"dog\", \"puppy\", \"bark\"],       \n",
    "    [\"eagle\", \"sparrow\", \"soar\"],   \n",
    "    [\"fish\", \"shark\", \"swim\"],\n",
    "    [\"dog\", \"puppy\", \"bark\"],       \n",
    "    [\"eagle\", \"sparrow\", \"soar\"],   \n",
    "    [\"fish\", \"shark\", \"swim\"],\n",
    "    [\"dog\", \"puppy\", \"bark\"],       \n",
    "    [\"eagle\", \"sparrow\", \"soar\"],   \n",
    "    [\"fish\", \"shark\", \"swim\"],\n",
    "    [\"dog\", \"puppy\", \"bark\"],       \n",
    "    [\"eagle\", \"sparrow\", \"soar\"],   \n",
    "    [\"fish\", \"shark\", \"swim\"],\n",
    "    [\"dog\", \"puppy\", \"bark\"],       \n",
    "    [\"eagle\", \"sparrow\", \"soar\"],   \n",
    "    [\"fish\", \"shark\", \"swim\"],\n",
    "]\n"
   ]
  },
  {
   "cell_type": "code",
   "execution_count": 53,
   "id": "22ba47e8",
   "metadata": {},
   "outputs": [
    {
     "name": "stdout",
     "output_type": "stream",
     "text": [
      "[['dog', 'puppy'], ['puppy', 'dog'], ['dog', 'bark'], ['bark', 'dog'], ['puppy', 'bark'], ['bark', 'puppy'], ['eagle', 'sparrow'], ['sparrow', 'eagle'], ['eagle', 'soar'], ['soar', 'eagle'], ['sparrow', 'soar'], ['soar', 'sparrow'], ['fish', 'shark'], ['shark', 'fish'], ['fish', 'swim'], ['swim', 'fish'], ['shark', 'swim'], ['swim', 'shark'], ['dog', 'puppy'], ['puppy', 'dog'], ['dog', 'bark'], ['bark', 'dog'], ['puppy', 'bark'], ['bark', 'puppy'], ['eagle', 'sparrow'], ['sparrow', 'eagle'], ['eagle', 'soar'], ['soar', 'eagle'], ['sparrow', 'soar'], ['soar', 'sparrow'], ['fish', 'shark'], ['shark', 'fish'], ['fish', 'swim'], ['swim', 'fish'], ['shark', 'swim'], ['swim', 'shark'], ['dog', 'puppy'], ['puppy', 'dog'], ['dog', 'bark'], ['bark', 'dog'], ['puppy', 'bark'], ['bark', 'puppy'], ['eagle', 'sparrow'], ['sparrow', 'eagle'], ['eagle', 'soar'], ['soar', 'eagle'], ['sparrow', 'soar'], ['soar', 'sparrow'], ['fish', 'shark'], ['shark', 'fish'], ['fish', 'swim'], ['swim', 'fish'], ['shark', 'swim'], ['swim', 'shark'], ['dog', 'puppy'], ['puppy', 'dog'], ['dog', 'bark'], ['bark', 'dog'], ['puppy', 'bark'], ['bark', 'puppy'], ['eagle', 'sparrow'], ['sparrow', 'eagle'], ['eagle', 'soar'], ['soar', 'eagle'], ['sparrow', 'soar'], ['soar', 'sparrow'], ['fish', 'shark'], ['shark', 'fish'], ['fish', 'swim'], ['swim', 'fish'], ['shark', 'swim'], ['swim', 'shark'], ['dog', 'puppy'], ['puppy', 'dog'], ['dog', 'bark'], ['bark', 'dog'], ['puppy', 'bark'], ['bark', 'puppy'], ['eagle', 'sparrow'], ['sparrow', 'eagle'], ['eagle', 'soar'], ['soar', 'eagle'], ['sparrow', 'soar'], ['soar', 'sparrow'], ['fish', 'shark'], ['shark', 'fish'], ['fish', 'swim'], ['swim', 'fish'], ['shark', 'swim'], ['swim', 'shark'], ['dog', 'puppy'], ['puppy', 'dog'], ['dog', 'bark'], ['bark', 'dog'], ['puppy', 'bark'], ['bark', 'puppy'], ['eagle', 'sparrow'], ['sparrow', 'eagle'], ['eagle', 'soar'], ['soar', 'eagle'], ['sparrow', 'soar'], ['soar', 'sparrow'], ['fish', 'shark'], ['shark', 'fish'], ['fish', 'swim'], ['swim', 'fish'], ['shark', 'swim'], ['swim', 'shark'], ['dog', 'puppy'], ['puppy', 'dog'], ['dog', 'bark'], ['bark', 'dog'], ['puppy', 'bark'], ['bark', 'puppy'], ['eagle', 'sparrow'], ['sparrow', 'eagle'], ['eagle', 'soar'], ['soar', 'eagle'], ['sparrow', 'soar'], ['soar', 'sparrow'], ['fish', 'shark'], ['shark', 'fish'], ['fish', 'swim'], ['swim', 'fish'], ['shark', 'swim'], ['swim', 'shark'], ['dog', 'puppy'], ['puppy', 'dog'], ['dog', 'bark'], ['bark', 'dog'], ['puppy', 'bark'], ['bark', 'puppy'], ['eagle', 'sparrow'], ['sparrow', 'eagle'], ['eagle', 'soar'], ['soar', 'eagle'], ['sparrow', 'soar'], ['soar', 'sparrow'], ['fish', 'shark'], ['shark', 'fish'], ['fish', 'swim'], ['swim', 'fish'], ['shark', 'swim'], ['swim', 'shark'], ['dog', 'puppy'], ['puppy', 'dog'], ['dog', 'bark'], ['bark', 'dog'], ['puppy', 'bark'], ['bark', 'puppy'], ['eagle', 'sparrow'], ['sparrow', 'eagle'], ['eagle', 'soar'], ['soar', 'eagle'], ['sparrow', 'soar'], ['soar', 'sparrow'], ['fish', 'shark'], ['shark', 'fish'], ['fish', 'swim'], ['swim', 'fish'], ['shark', 'swim'], ['swim', 'shark']]\n"
     ]
    }
   ],
   "source": [
    "bigrams = []\n",
    "for words_list in sentences:\n",
    "    for i in range(len(words_list) - 1):\n",
    "        for j in range(i+1, len(words_list)):\n",
    "            bigrams.append([words_list[i], words_list[j]])\n",
    "            bigrams.append([words_list[j], words_list[i]])\n",
    "            \n",
    "\n",
    "print(bigrams)"
   ]
  },
  {
   "cell_type": "code",
   "execution_count": 54,
   "id": "1302dac0",
   "metadata": {},
   "outputs": [
    {
     "name": "stdout",
     "output_type": "stream",
     "text": [
      "['dog', 'puppy', 'bark', 'eagle', 'sparrow', 'soar', 'fish', 'shark', 'swim']\n",
      "The total content is: \n",
      "9\n"
     ]
    }
   ],
   "source": [
    "total_words = []\n",
    "for words_list in sentences:\n",
    "    for words in words_list:\n",
    "        if words not in total_words:\n",
    "            total_words.append(words)\n",
    "\n",
    "print(total_words)\n",
    "print(\"The total content is: \")\n",
    "print(len(total_words))"
   ]
  },
  {
   "cell_type": "code",
   "execution_count": 55,
   "id": "5e9221ab",
   "metadata": {},
   "outputs": [
    {
     "name": "stdout",
     "output_type": "stream",
     "text": [
      "{'dog': 0, 'puppy': 1, 'bark': 2, 'eagle': 3, 'sparrow': 4, 'soar': 5, 'fish': 6, 'shark': 7, 'swim': 8}\n"
     ]
    }
   ],
   "source": [
    "words_dict = {}\n",
    "\n",
    "counter = 0\n",
    "for word in total_words:\n",
    "    words_dict[word] = counter\n",
    "    counter += 1\n",
    "\n",
    "print(words_dict)\n",
    "\n"
   ]
  },
  {
   "cell_type": "code",
   "execution_count": 56,
   "id": "43372ebb",
   "metadata": {},
   "outputs": [
    {
     "name": "stdout",
     "output_type": "stream",
     "text": [
      "dog : [1. 0. 0. 0. 0. 0. 0. 0. 0.]\n",
      "puppy : [0. 1. 0. 0. 0. 0. 0. 0. 0.]\n",
      "bark : [0. 0. 1. 0. 0. 0. 0. 0. 0.]\n",
      "eagle : [0. 0. 0. 1. 0. 0. 0. 0. 0.]\n",
      "sparrow : [0. 0. 0. 0. 1. 0. 0. 0. 0.]\n",
      "soar : [0. 0. 0. 0. 0. 1. 0. 0. 0.]\n",
      "fish : [0. 0. 0. 0. 0. 0. 1. 0. 0.]\n",
      "shark : [0. 0. 0. 0. 0. 0. 0. 1. 0.]\n",
      "swim : [0. 0. 0. 0. 0. 0. 0. 0. 1.]\n"
     ]
    }
   ],
   "source": [
    "import numpy as np\n",
    "\n",
    "onehot_data = np.zeros((len(total_words), len(total_words)))\n",
    "\n",
    "for i in range(len(total_words)):\n",
    "    onehot_data[i][i] = 1\n",
    "\n",
    "onehot_dict = {}\n",
    "counter = 0\n",
    "for word in total_words:\n",
    "    onehot_dict[word] = onehot_data[counter]\n",
    "    counter += 1\n",
    "\n",
    "for word in onehot_dict:\n",
    "    print(word, \":\", onehot_dict[word])"
   ]
  },
  {
   "cell_type": "code",
   "execution_count": 57,
   "id": "ccf8bcf3",
   "metadata": {},
   "outputs": [],
   "source": [
    "X = []\n",
    "Y = []\n",
    "\n",
    "for bi in bigrams:\n",
    "    X.append(onehot_dict[bi[0]])\n",
    "    Y.append(onehot_dict[bi[1]])\n",
    "    \n",
    "X = np.array(X)\n",
    "Y = np.array(Y)"
   ]
  },
  {
   "cell_type": "code",
   "execution_count": 62,
   "id": "6c9fff7d",
   "metadata": {},
   "outputs": [
    {
     "name": "stdout",
     "output_type": "stream",
     "text": [
      "Epoch [1000/1000], Loss: 0.0836\n",
      "Epoch [2000/1000], Loss: 0.0830\n",
      "Epoch [3000/1000], Loss: 0.0824\n",
      "Epoch [4000/1000], Loss: 0.0818\n",
      "Epoch [5000/1000], Loss: 0.0813\n",
      "Epoch [6000/1000], Loss: 0.0807\n",
      "Epoch [7000/1000], Loss: 0.0802\n",
      "Epoch [8000/1000], Loss: 0.0797\n",
      "Epoch [9000/1000], Loss: 0.0792\n",
      "Epoch [10000/1000], Loss: 0.0787\n",
      "Epoch [11000/1000], Loss: 0.0783\n",
      "Epoch [12000/1000], Loss: 0.0779\n",
      "Epoch [13000/1000], Loss: 0.0775\n",
      "Epoch [14000/1000], Loss: 0.0772\n",
      "Epoch [15000/1000], Loss: 0.0768\n",
      "Epoch [16000/1000], Loss: 0.0765\n",
      "Epoch [17000/1000], Loss: 0.0763\n",
      "Epoch [18000/1000], Loss: 0.0760\n",
      "Epoch [19000/1000], Loss: 0.0758\n",
      "Epoch [20000/1000], Loss: 0.0756\n",
      "Epoch [21000/1000], Loss: 0.0754\n",
      "Epoch [22000/1000], Loss: 0.0753\n",
      "Epoch [23000/1000], Loss: 0.0751\n",
      "Epoch [24000/1000], Loss: 0.0750\n",
      "Epoch [25000/1000], Loss: 0.0749\n",
      "Epoch [26000/1000], Loss: 0.0748\n",
      "Epoch [27000/1000], Loss: 0.0747\n",
      "Epoch [28000/1000], Loss: 0.0746\n",
      "Epoch [29000/1000], Loss: 0.0746\n",
      "Epoch [30000/1000], Loss: 0.0745\n"
     ]
    }
   ],
   "source": [
    "for epoch in range(30000):\n",
    "    inputs = torch.tensor(X).float().to(\"cuda\")\n",
    "    labels = torch.tensor(Y).float().to(\"cuda\")\n",
    "    model = model.to(\"cuda\")\n",
    "    \n",
    "    optimizer = torch.optim.SGD(model.parameters(), lr=0.01)\n",
    "    criterion = nn.MSELoss()\n",
    "    \n",
    "    optimizer.zero_grad()\n",
    "    \n",
    "    outputs = model(inputs)\n",
    "    \n",
    "    loss = criterion(outputs, labels)\n",
    "    \n",
    "    loss.backward()\n",
    "    \n",
    "    optimizer.step()\n",
    "    \n",
    "    if (epoch+1) % 1000 == 0:\n",
    "        print(f'Epoch [{epoch+1}/1000], Loss: {loss.item():.4f}')"
   ]
  },
  {
   "cell_type": "code",
   "execution_count": 63,
   "id": "a1950a67",
   "metadata": {},
   "outputs": [],
   "source": [
    "weights = model.state_dict()['hidden_out.weight']\n",
    "word_embeddings = {}\n",
    "for word in total_words:\n",
    "    word_embeddings[word] = weights[words_dict[word]].to(\"cpu\")\n",
    "    "
   ]
  },
  {
   "cell_type": "code",
   "execution_count": 64,
   "id": "a4c1889b",
   "metadata": {},
   "outputs": [
    {
     "data": {
      "text/plain": [
       "{'dog': tensor([0.2839, 0.6622]),\n",
       " 'puppy': tensor([0.2368, 0.6956]),\n",
       " 'bark': tensor([0.2775, 0.5791]),\n",
       " 'eagle': tensor([ 0.4479, -0.8183]),\n",
       " 'sparrow': tensor([ 0.3104, -0.6181]),\n",
       " 'soar': tensor([ 0.2675, -0.5029]),\n",
       " 'fish': tensor([-0.6165, -0.0310]),\n",
       " 'shark': tensor([-0.6089, -0.0885]),\n",
       " 'swim': tensor([-0.6470,  0.1809])}"
      ]
     },
     "execution_count": 64,
     "metadata": {},
     "output_type": "execute_result"
    }
   ],
   "source": [
    "word_embeddings"
   ]
  },
  {
   "cell_type": "code",
   "execution_count": 65,
   "id": "2254e72d",
   "metadata": {},
   "outputs": [
    {
     "data": {
      "image/png": "[encoded data removed]",
      "text/plain": [
       "<Figure size 1000x1000 with 1 Axes>"
      ]
     },
     "metadata": {},
     "output_type": "display_data"
    }
   ],
   "source": [
    "import matplotlib.pyplot as plt\n",
    "\n",
    "plt.figure(figsize = (10, 10))\n",
    "for word in list(words_dict.keys()):\n",
    "    coord = word_embeddings.get(word)\n",
    "    plt.scatter(coord[0], coord[1])\n",
    "    plt.annotate(word, (coord[0], coord[1]))\n",
    "plt.grid(True)\n",
    "plt.show()"
   ]
  },
  {
   "cell_type": "code",
   "execution_count": null,
   "id": "e8ed986f",
   "metadata": {},
   "outputs": [],
   "source": []
  },
  {
   "cell_type": "code",
   "execution_count": null,
   "id": "47775883",
   "metadata": {},
   "outputs": [],
   "source": []
  }
 ],
 "metadata": {
  "kernelspec": {
   "display_name": "torch",
   "language": "python",
   "name": "python3"
  },
  "language_info": {
   "codemirror_mode": {
    "name": "ipython",
    "version": 3
   },
   "file_extension": ".py",
   "mimetype": "text/x-python",
   "name": "python",
   "nbconvert_exporter": "python",
   "pygments_lexer": "ipython3",
   "version": "3.9.23"
  }
 },
 "nbformat": 4,
 "nbformat_minor": 5
}
